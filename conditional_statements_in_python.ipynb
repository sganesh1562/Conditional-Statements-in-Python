{
  "nbformat": 4,
  "nbformat_minor": 0,
  "metadata": {
    "colab": {
      "name": "conditional_statements_in_python.ipynb",
      "provenance": []
    },
    "kernelspec": {
      "name": "python3",
      "display_name": "Python 3"
    },
    "language_info": {
      "name": "python"
    }
  },
  "cells": [
    {
      "cell_type": "markdown",
      "metadata": {
        "id": "MFq0C8osUx8F"
      },
      "source": [
        "Comparing two numbers"
      ]
    },
    {
      "cell_type": "code",
      "metadata": {
        "colab": {
          "base_uri": "https://localhost:8080/"
        },
        "id": "3mXtbVyuUsju",
        "outputId": "94d7a52c-0e47-46cc-8d1f-02a2b43f6b9b"
      },
      "source": [
        "x=int(input(\"enter value for x\"))\n",
        "y=int(input(\"enter value for y\"))\n",
        "\n",
        "if x>y:\n",
        "  print(\"x is greater\")\n",
        "\n",
        "elif x==y:\n",
        "  print(\"both are equal\")\n",
        "\n",
        "else:\n",
        "  print(\"y is greater\")"
      ],
      "execution_count": 5,
      "outputs": [
        {
          "output_type": "stream",
          "text": [
            "enter value for x67\n",
            "enter value for y67\n",
            "both are equal\n"
          ],
          "name": "stdout"
        }
      ]
    },
    {
      "cell_type": "markdown",
      "metadata": {
        "id": "Clb38VDHVu1G"
      },
      "source": [
        "In a fare, the entry fee is 0 rupees for children less than 4 years of age, the entry fee for children in the age of 5-18 years is 100 rupees and for anyone more than 18 years of age is 175 rupees. Take age as input from the user and display the price of ticket "
      ]
    },
    {
      "cell_type": "code",
      "metadata": {
        "colab": {
          "base_uri": "https://localhost:8080/"
        },
        "id": "v8NKEOb3VF_k",
        "outputId": "7ed57ce5-70c9-4165-b8d2-7659579d83c8"
      },
      "source": [
        "age = int(input(\"enter your age\"))\n",
        "\n",
        "if age<=4:\n",
        "  print(\"entry is free!!\")\n",
        "\n",
        "elif 5<=age<=18:\n",
        "  print(\"entry fee is 100 rupees\")\n",
        "\n",
        "else:\n",
        "  print(\"entry fee is 175 rupees\")"
      ],
      "execution_count": 12,
      "outputs": [
        {
          "output_type": "stream",
          "text": [
            "enter your age4\n",
            "entry is free!!\n"
          ],
          "name": "stdout"
        }
      ]
    },
    {
      "cell_type": "code",
      "metadata": {
        "id": "4zo_Z83BX59c"
      },
      "source": [
        ""
      ],
      "execution_count": null,
      "outputs": []
    }
  ]
}